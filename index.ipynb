{
 "cells": [
  {
   "cell_type": "markdown",
   "metadata": {},
   "source": [
    "# Hackathon de Machine Learning"
   ]
  },
  {
   "cell_type": "markdown",
   "metadata": {},
   "source": [
    "<div style=\"text-align:justify\">\n",
    "Este notebook apresenta os desafios e a metodologia de trabalho do <b>Hackathon de Machine Learning</b>. Utilizaremos datasets públicos, disponíveis na web e bem documentados.\n",
    "</div>"
   ]
  },
  {
   "cell_type": "markdown",
   "metadata": {},
   "source": [
    "## Dados"
   ]
  },
  {
   "cell_type": "markdown",
   "metadata": {},
   "source": [
    "<div style=\"text-align:justify\">\n",
    "Os dados utilizados neste desafio são públicos e representam pedidos de compras feitos no marketplace Olist. Estes dados tem informações de 100 mil pedidos de 2016 a 2018, realizados em várias lojas do Brasil. Os atributos permitem visualizar um pedido de várias dimensões: status do pedido, preço, pagamento e desempenho do frete até a localização do cliente, atributos do produto e críticas escritas pelos clientes.\n",
    "</div>\n",
    "\n",
    "Os dados estão disponíveis aqui https://www.kaggle.com/olistbr/brazilian-ecommerce."
   ]
  },
  {
   "cell_type": "markdown",
   "metadata": {},
   "source": [
    "## Funcionamento do Negócio"
   ]
  },
  {
   "cell_type": "markdown",
   "metadata": {},
   "source": [
    "<div style=\"text-align:justify\">\n",
    "Depois que um cliente compra o produto da Olist Store, um vendedor é notificado para atender a esse pedido. Uma vez que o cliente recebe o produto ou a data de entrega estimada é atingida, o cliente recebe uma pesquisa de satisfação por e-mail e pode dar uma nota para a experiência de compra e fazer um comentário.\n",
    "</div>\n",
    "\n",
    "- Um pedido pode ter vários itens.\n",
    "- Cada item pode ser preenchido por um vendedor distinto.\n",
    "- Todo texto identificando lojas e parceiros foram substituídos pelos nomes das casas de Game of Thrones."
   ]
  },
  {
   "cell_type": "markdown",
   "metadata": {},
   "source": [
    "## Data Schema"
   ]
  },
  {
   "cell_type": "markdown",
   "metadata": {},
   "source": [
    "<img src=\"images/schema.png\" align=\"left\">"
   ]
  },
  {
   "cell_type": "markdown",
   "metadata": {},
   "source": [
    "## Processo"
   ]
  },
  {
   "cell_type": "markdown",
   "metadata": {},
   "source": [
    "- Entender os dados.\n",
    "- Definir os indicadores do negócio e as hipóteses para investigação.\n",
    "- Preparar os dados para análise exploratória e cálculo dos indicadores.\n",
    "- Calcular indicadores do negócio.\n",
    "- Realizar análise exploratória dos dados e investigar as hipóteses.\n",
    "- Identificar e selecionar oportunidades para aplicação de modelos de Machine Learning.\n",
    "- Estruturar a solução através do [Machine Learning Canvas](https://docs.google.com/document/d/1yTwepxl8KDmv0QSTVorNWXrqaaW0Ryy8Dm7khLU93Ug/edit).\n",
    "- Desenvolver modelo(s) de Machine Learning."
   ]
  },
  {
   "cell_type": "markdown",
   "metadata": {},
   "source": [
    "<div style=\"text-align:justify\">\n",
    "O processo que descrevemos acima á bastante conhecido, quando se diz respeito a manipulação de grandes volumes de ddos; ele se chama Cross Industry Standard Process for Data Mining (CRISP-DM). CRISP-DM é uma metodologia especificamente desenhada para processos de mineração de dados e sua aplicação vem se tornando cada vez mais recorrente em projetos de Big Data.\n",
    "</div>\n",
    "\n",
    "Veja a seguir uma ilustração desse processo:"
   ]
  },
  {
   "cell_type": "markdown",
   "metadata": {},
   "source": [
    "<img src=\"images/crisp-dm.png\" width=\"600px\" height=\"500px\" align=\"center\">"
   ]
  },
  {
   "cell_type": "markdown",
   "metadata": {},
   "source": [
    "## Notebooks"
   ]
  },
  {
   "cell_type": "markdown",
   "metadata": {},
   "source": [
    "Esta seção elenca os notebooks produzidos durante o hackathon, na forma de índice. Quatro notebooks estão parcialmente desenvolvidos e podem ser utilizados como base para evolução das análises."
   ]
  },
  {
   "cell_type": "markdown",
   "metadata": {},
   "source": [
    "- [Clientes](eda/clientes.ipynb)\n",
    "- [Produtos](eda/produtos.ipynb)\n",
    "- [Pedidos](eda/pedidos.ipynb)\n",
    "- [Pagamentos](eda/pagamentos.ipynb)"
   ]
  },
  {
   "cell_type": "code",
   "execution_count": null,
   "metadata": {},
   "outputs": [],
   "source": []
  }
 ],
 "metadata": {
  "kernelspec": {
   "display_name": "Python 3",
   "language": "python",
   "name": "python3"
  },
  "language_info": {
   "codemirror_mode": {
    "name": "ipython",
    "version": 3
   },
   "file_extension": ".py",
   "mimetype": "text/x-python",
   "name": "python",
   "nbconvert_exporter": "python",
   "pygments_lexer": "ipython3",
   "version": "3.6.6"
  }
 },
 "nbformat": 4,
 "nbformat_minor": 2
}
